{
 "cells": [
  {
   "cell_type": "code",
   "execution_count": 5,
   "metadata": {},
   "outputs": [],
   "source": [
    "import pandas as pd"
   ]
  },
  {
   "cell_type": "code",
   "execution_count": 6,
   "metadata": {},
   "outputs": [],
   "source": [
    "sierra_fh = \"../files/GovDocs-Sierra-oclcNos.txt\"\n",
    "oclc_fh = \"../files/GovDocs-OCLC-print-ALL.csv\""
   ]
  },
  {
   "cell_type": "code",
   "execution_count": 7,
   "metadata": {},
   "outputs": [],
   "source": [
    "sdf = pd.read_csv(sierra_fh, header=0, sep=\"\\t\", names=[\"oclcNo\", \"leader\", \"t008\", \"bibNo\", \"matType\", \"loc\"], dtype={\"oclcNo\": str})"
   ]
  },
  {
   "cell_type": "code",
   "execution_count": 8,
   "metadata": {},
   "outputs": [
    {
     "data": {
      "text/plain": [
       "340218"
      ]
     },
     "execution_count": 8,
     "metadata": {},
     "output_type": "execute_result"
    }
   ],
   "source": [
    "sdf.shape[0]"
   ]
  },
  {
   "cell_type": "code",
   "execution_count": 9,
   "metadata": {},
   "outputs": [],
   "source": [
    "odf = pd.read_csv(oclc_fh, header=0, sep=\"\\t\", names=[\"oclcNo\"], dtype={\"oclcNo\": str})"
   ]
  },
  {
   "cell_type": "code",
   "execution_count": 10,
   "metadata": {},
   "outputs": [
    {
     "data": {
      "text/plain": [
       "114659"
      ]
     },
     "execution_count": 10,
     "metadata": {},
     "output_type": "execute_result"
    }
   ],
   "source": [
    "odf.shape[0]"
   ]
  },
  {
   "cell_type": "code",
   "execution_count": 11,
   "metadata": {},
   "outputs": [],
   "source": [
    "df = pd.merge(sdf, odf, how=\"outer\", on=\"oclcNo\", indicator=True)"
   ]
  },
  {
   "cell_type": "code",
   "execution_count": 12,
   "metadata": {},
   "outputs": [
    {
     "data": {
      "text/plain": [
       "410978"
      ]
     },
     "execution_count": 12,
     "metadata": {},
     "output_type": "execute_result"
    }
   ],
   "source": [
    "df.shape[0]"
   ]
  },
  {
   "cell_type": "code",
   "execution_count": 13,
   "metadata": {},
   "outputs": [
    {
     "data": {
      "text/html": [
       "<div>\n",
       "<style scoped>\n",
       "    .dataframe tbody tr th:only-of-type {\n",
       "        vertical-align: middle;\n",
       "    }\n",
       "\n",
       "    .dataframe tbody tr th {\n",
       "        vertical-align: top;\n",
       "    }\n",
       "\n",
       "    .dataframe thead th {\n",
       "        text-align: right;\n",
       "    }\n",
       "</style>\n",
       "<table border=\"1\" class=\"dataframe\">\n",
       "  <thead>\n",
       "    <tr style=\"text-align: right;\">\n",
       "      <th></th>\n",
       "      <th>oclcNo</th>\n",
       "      <th>leader</th>\n",
       "      <th>t008</th>\n",
       "      <th>bibNo</th>\n",
       "      <th>matType</th>\n",
       "      <th>loc</th>\n",
       "      <th>_merge</th>\n",
       "    </tr>\n",
       "  </thead>\n",
       "  <tbody>\n",
       "    <tr>\n",
       "      <th>0</th>\n",
       "      <td>778074564</td>\n",
       "      <td>02415ces a2200565Ii 4500</td>\n",
       "      <td>120224c20119999vauag\\\\bh\\c\\\\fo\\1\\\\\\eng\\d</td>\n",
       "      <td>.b195973367</td>\n",
       "      <td>w</td>\n",
       "      <td>ia</td>\n",
       "      <td>left_only</td>\n",
       "    </tr>\n",
       "    <tr>\n",
       "      <th>1</th>\n",
       "      <td>778074564</td>\n",
       "      <td>02415ces a2200565Ii 4500</td>\n",
       "      <td>120224c20119999vauag\\\\bh\\c\\\\fo\\1\\\\\\eng\\d</td>\n",
       "      <td>.b195973367</td>\n",
       "      <td>w</td>\n",
       "      <td>ia</td>\n",
       "      <td>left_only</td>\n",
       "    </tr>\n",
       "    <tr>\n",
       "      <th>2</th>\n",
       "      <td>778075920</td>\n",
       "      <td>02444ces a2200577Ii 4500</td>\n",
       "      <td>120224c20119999vauag\\\\bh\\c\\\\fo\\1\\\\\\eng\\d</td>\n",
       "      <td>.b195973379</td>\n",
       "      <td>w</td>\n",
       "      <td>ia</td>\n",
       "      <td>left_only</td>\n",
       "    </tr>\n",
       "    <tr>\n",
       "      <th>3</th>\n",
       "      <td>778076212</td>\n",
       "      <td>02037cam a2200457 a 4500</td>\n",
       "      <td>120224s2011\\\\\\\\dcuab\\\\\\ob\\\\\\f000\\0\\eng\\c</td>\n",
       "      <td>.b195973380</td>\n",
       "      <td>w</td>\n",
       "      <td>ia</td>\n",
       "      <td>left_only</td>\n",
       "    </tr>\n",
       "    <tr>\n",
       "      <th>4</th>\n",
       "      <td>778076307</td>\n",
       "      <td>01660cam a2200433Ia 4500</td>\n",
       "      <td>120224s2008\\\\\\\\dcu\\\\\\\\\\obf\\\\f000\\0\\eng\\d</td>\n",
       "      <td>.b195973392</td>\n",
       "      <td>w</td>\n",
       "      <td>ia</td>\n",
       "      <td>left_only</td>\n",
       "    </tr>\n",
       "  </tbody>\n",
       "</table>\n",
       "</div>"
      ],
      "text/plain": [
       "      oclcNo                    leader  \\\n",
       "0  778074564  02415ces a2200565Ii 4500   \n",
       "1  778074564  02415ces a2200565Ii 4500   \n",
       "2  778075920  02444ces a2200577Ii 4500   \n",
       "3  778076212  02037cam a2200457 a 4500   \n",
       "4  778076307  01660cam a2200433Ia 4500   \n",
       "\n",
       "                                       t008        bibNo matType loc  \\\n",
       "0  120224c20119999vauag\\\\bh\\c\\\\fo\\1\\\\\\eng\\d  .b195973367       w  ia   \n",
       "1  120224c20119999vauag\\\\bh\\c\\\\fo\\1\\\\\\eng\\d  .b195973367       w  ia   \n",
       "2  120224c20119999vauag\\\\bh\\c\\\\fo\\1\\\\\\eng\\d  .b195973379       w  ia   \n",
       "3  120224s2011\\\\\\\\dcuab\\\\\\ob\\\\\\f000\\0\\eng\\c  .b195973380       w  ia   \n",
       "4  120224s2008\\\\\\\\dcu\\\\\\\\\\obf\\\\f000\\0\\eng\\d  .b195973392       w  ia   \n",
       "\n",
       "      _merge  \n",
       "0  left_only  \n",
       "1  left_only  \n",
       "2  left_only  \n",
       "3  left_only  \n",
       "4  left_only  "
      ]
     },
     "execution_count": 13,
     "metadata": {},
     "output_type": "execute_result"
    }
   ],
   "source": [
    "df.head()"
   ]
  },
  {
   "cell_type": "code",
   "execution_count": 14,
   "metadata": {},
   "outputs": [],
   "source": [
    "invalid_control_no = df[df[\"oclcNo\"].str.startswith(\"0\")]"
   ]
  },
  {
   "cell_type": "code",
   "execution_count": 15,
   "metadata": {},
   "outputs": [
    {
     "data": {
      "text/plain": [
       "0"
      ]
     },
     "execution_count": 15,
     "metadata": {},
     "output_type": "execute_result"
    }
   ],
   "source": [
    "invalid_control_no.shape[0]"
   ]
  },
  {
   "cell_type": "code",
   "execution_count": 17,
   "metadata": {},
   "outputs": [],
   "source": [
    "bdf = df[df[\"_merge\"] == \"both\"]"
   ]
  },
  {
   "cell_type": "code",
   "execution_count": 18,
   "metadata": {},
   "outputs": [
    {
     "data": {
      "text/plain": [
       "43899"
      ]
     },
     "execution_count": 18,
     "metadata": {},
     "output_type": "execute_result"
    }
   ],
   "source": [
    "bdf.shape[0]"
   ]
  },
  {
   "cell_type": "code",
   "execution_count": 19,
   "metadata": {},
   "outputs": [
    {
     "data": {
      "text/html": [
       "<div>\n",
       "<style scoped>\n",
       "    .dataframe tbody tr th:only-of-type {\n",
       "        vertical-align: middle;\n",
       "    }\n",
       "\n",
       "    .dataframe tbody tr th {\n",
       "        vertical-align: top;\n",
       "    }\n",
       "\n",
       "    .dataframe thead th {\n",
       "        text-align: right;\n",
       "    }\n",
       "</style>\n",
       "<table border=\"1\" class=\"dataframe\">\n",
       "  <thead>\n",
       "    <tr style=\"text-align: right;\">\n",
       "      <th></th>\n",
       "      <th>oclcNo</th>\n",
       "      <th>leader</th>\n",
       "      <th>t008</th>\n",
       "      <th>bibNo</th>\n",
       "      <th>matType</th>\n",
       "      <th>loc</th>\n",
       "      <th>_merge</th>\n",
       "    </tr>\n",
       "  </thead>\n",
       "  <tbody>\n",
       "    <tr>\n",
       "      <th>689</th>\n",
       "      <td>29231030</td>\n",
       "      <td>01772nam a2200433 a 4500</td>\n",
       "      <td>931130s1993\\\\\\\\dcu\\\\\\\\\\\\\\\\\\\\f000\\0\\eng\\c</td>\n",
       "      <td>.b19598030x</td>\n",
       "      <td>h</td>\n",
       "      <td>mai</td>\n",
       "      <td>both</td>\n",
       "    </tr>\n",
       "    <tr>\n",
       "      <th>691</th>\n",
       "      <td>30084650</td>\n",
       "      <td>02230nam a2200529 a 4500</td>\n",
       "      <td>940404s1986\\\\\\\\pauab\\\\\\bbt\\\\f000\\0\\eng\\c</td>\n",
       "      <td>.b195980323</td>\n",
       "      <td>h</td>\n",
       "      <td>mai</td>\n",
       "      <td>both</td>\n",
       "    </tr>\n",
       "    <tr>\n",
       "      <th>692</th>\n",
       "      <td>35629809</td>\n",
       "      <td>02011nam a2200469 a 4500</td>\n",
       "      <td>960925s1996\\\\\\\\dcua\\\\\\\\\\b\\\\\\f000\\0\\eng\\c</td>\n",
       "      <td>.b195980335</td>\n",
       "      <td>h</td>\n",
       "      <td>mai</td>\n",
       "      <td>both</td>\n",
       "    </tr>\n",
       "    <tr>\n",
       "      <th>2933</th>\n",
       "      <td>34232546</td>\n",
       "      <td>02047nam a2200505 a 4500</td>\n",
       "      <td>960221s1985\\\\\\\\caua\\\\\\\\bbt\\\\f000\\0\\eng\\c</td>\n",
       "      <td>.b196326205</td>\n",
       "      <td>h</td>\n",
       "      <td>mai</td>\n",
       "      <td>both</td>\n",
       "    </tr>\n",
       "    <tr>\n",
       "      <th>2934</th>\n",
       "      <td>34233867</td>\n",
       "      <td>02373nam a2200505 a 4500</td>\n",
       "      <td>960221s1985\\\\\\\\dcua\\\\\\\\bbm\\\\f000\\0\\eng\\c</td>\n",
       "      <td>.b196326217</td>\n",
       "      <td>h</td>\n",
       "      <td>mai</td>\n",
       "      <td>both</td>\n",
       "    </tr>\n",
       "  </tbody>\n",
       "</table>\n",
       "</div>"
      ],
      "text/plain": [
       "        oclcNo                    leader  \\\n",
       "689   29231030  01772nam a2200433 a 4500   \n",
       "691   30084650  02230nam a2200529 a 4500   \n",
       "692   35629809  02011nam a2200469 a 4500   \n",
       "2933  34232546  02047nam a2200505 a 4500   \n",
       "2934  34233867  02373nam a2200505 a 4500   \n",
       "\n",
       "                                          t008        bibNo matType  loc  \\\n",
       "689   931130s1993\\\\\\\\dcu\\\\\\\\\\\\\\\\\\\\f000\\0\\eng\\c  .b19598030x       h  mai   \n",
       "691   940404s1986\\\\\\\\pauab\\\\\\bbt\\\\f000\\0\\eng\\c  .b195980323       h  mai   \n",
       "692   960925s1996\\\\\\\\dcua\\\\\\\\\\b\\\\\\f000\\0\\eng\\c  .b195980335       h  mai   \n",
       "2933  960221s1985\\\\\\\\caua\\\\\\\\bbt\\\\f000\\0\\eng\\c  .b196326205       h  mai   \n",
       "2934  960221s1985\\\\\\\\dcua\\\\\\\\bbm\\\\f000\\0\\eng\\c  .b196326217       h  mai   \n",
       "\n",
       "     _merge  \n",
       "689    both  \n",
       "691    both  \n",
       "692    both  \n",
       "2933   both  \n",
       "2934   both  "
      ]
     },
     "execution_count": 19,
     "metadata": {},
     "output_type": "execute_result"
    }
   ],
   "source": [
    "bdf.head()"
   ]
  },
  {
   "cell_type": "code",
   "execution_count": 20,
   "metadata": {},
   "outputs": [
    {
     "data": {
      "text/plain": [
       "h    42346\n",
       "a     1501\n",
       "w       47\n",
       "e        2\n",
       "s        2\n",
       "k        1\n",
       "Name: matType, dtype: int64"
      ]
     },
     "execution_count": 20,
     "metadata": {},
     "output_type": "execute_result"
    }
   ],
   "source": [
    "bdf[\"matType\"].value_counts()"
   ]
  },
  {
   "cell_type": "code",
   "execution_count": 21,
   "metadata": {},
   "outputs": [
    {
     "data": {
      "text/plain": [
       "mai          43051\n",
       "ls             780\n",
       "ia              34\n",
       "iarch;ia        10\n",
       "slr             10\n",
       "mal              8\n",
       "iarch            2\n",
       "ia;mai           1\n",
       "scf              1\n",
       "mai;iarch        1\n",
       "none             1\n",
       "Name: loc, dtype: int64"
      ]
     },
     "execution_count": 21,
     "metadata": {},
     "output_type": "execute_result"
    }
   ],
   "source": [
    "bdf[\"loc\"].value_counts()"
   ]
  },
  {
   "cell_type": "code",
   "execution_count": 23,
   "metadata": {},
   "outputs": [],
   "source": [
    "bdf[bdf[\"matType\"] == \"w\"].to_csv(\"../files/GovDocs-print-matched-mattype-w.csv\", index=False, columns=[\"bibNo\"])"
   ]
  },
  {
   "cell_type": "code",
   "execution_count": 24,
   "metadata": {},
   "outputs": [],
   "source": [
    "bldf = bdf[(bdf[\"loc\"] == \"ia\")|(bdf[\"loc\"] == \"iarch\")|(bdf[\"loc\"] == \"iarch;ia\")|(bdf[\"loc\"] == \"ia;mai\")|(bdf[\"loc\"] == \"mai;iarch\")]"
   ]
  },
  {
   "cell_type": "code",
   "execution_count": 25,
   "metadata": {},
   "outputs": [
    {
     "data": {
      "text/plain": [
       "48"
      ]
     },
     "execution_count": 25,
     "metadata": {},
     "output_type": "execute_result"
    }
   ],
   "source": [
    "bldf.shape[0]"
   ]
  },
  {
   "cell_type": "code",
   "execution_count": 26,
   "metadata": {},
   "outputs": [
    {
     "data": {
      "text/plain": [
       "ia           34\n",
       "iarch;ia     10\n",
       "iarch         2\n",
       "mai;iarch     1\n",
       "ia;mai        1\n",
       "Name: loc, dtype: int64"
      ]
     },
     "execution_count": 26,
     "metadata": {},
     "output_type": "execute_result"
    }
   ],
   "source": [
    "bldf[\"loc\"].value_counts()"
   ]
  },
  {
   "cell_type": "code",
   "execution_count": 28,
   "metadata": {},
   "outputs": [],
   "source": [
    "bdf.to_csv(\"../files/GovDocs-print-matched-SierraNos.csv\", index=False, columns=[\"bibNo\"])"
   ]
  },
  {
   "cell_type": "code",
   "execution_count": 29,
   "metadata": {},
   "outputs": [],
   "source": [
    "bdf.to_csv(\"../files/GovDocs-print-matched-oclcNos.csv\", index=False, columns=[\"oclcNo\"])"
   ]
  }
 ],
 "metadata": {
  "kernelspec": {
   "display_name": "Python 3",
   "language": "python",
   "name": "python3"
  },
  "language_info": {
   "codemirror_mode": {
    "name": "ipython",
    "version": 3
   },
   "file_extension": ".py",
   "mimetype": "text/x-python",
   "name": "python",
   "nbconvert_exporter": "python",
   "pygments_lexer": "ipython3",
   "version": "3.8.7"
  }
 },
 "nbformat": 4,
 "nbformat_minor": 4
}
