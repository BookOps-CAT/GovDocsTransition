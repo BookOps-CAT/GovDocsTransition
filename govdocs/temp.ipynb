{
 "cells": [
  {
   "cell_type": "code",
   "execution_count": 1,
   "id": "f1d25d2d",
   "metadata": {},
   "outputs": [],
   "source": [
    "import pandas as pd"
   ]
  },
  {
   "cell_type": "code",
   "execution_count": 2,
   "id": "bbe29fa4",
   "metadata": {},
   "outputs": [],
   "source": [
    "fh = \"C:/Users/tomaszkalata/Desktop/Temp/nypl-583-notes.txt\""
   ]
  },
  {
   "cell_type": "code",
   "execution_count": 3,
   "id": "56faa922",
   "metadata": {},
   "outputs": [],
   "source": [
    "df = pd.read_csv(fh, sep=\",\", header=0, names=[\"bibNo\", \"note\"])"
   ]
  },
  {
   "cell_type": "code",
   "execution_count": 4,
   "id": "18d62224",
   "metadata": {},
   "outputs": [
    {
     "data": {
      "text/plain": [
       "8804"
      ]
     },
     "execution_count": 4,
     "metadata": {},
     "output_type": "execute_result"
    }
   ],
   "source": [
    "df.shape[0]"
   ]
  },
  {
   "cell_type": "code",
   "execution_count": 5,
   "id": "06d49673",
   "metadata": {},
   "outputs": [
    {
     "data": {
      "text/plain": [
       "note\n",
       "committed to retain in perpetuity ReCAP Collaboration for Slavic and East European Books NN http://arks.princeton.edu/ark:/88435/dcxg94j1575                                                       8564\n",
       "committed to retain in perpetuity ReCAP Italian Language Imprints Collaborative Collection NN http://arks.princeton.edu/ark:/88435/dcxg94j1575                                                      201\n",
       "committed to retain in perpetuity ReCAP Turkey Imprints Collaborative Collection NN http://arks.princeton.edu/ark:/88435/dcxg94j1575                                                                 35\n",
       "NBK-R 204202. UkLUC ssees@committed to retain in perpetuity ReCAP Collaboration for Slavic and East European Books NN http://arks.princeton.edu/ark:/88435/dcxg94j1575                                1\n",
       "committed to retain in perpetuity   ReCAP   Collaboration for Slavic and East European Books NN   http://arks.princeton.edu/ark:/88435/dcxg94j1575                                                    1\n",
       "Plates condition reviewed 20240611 missing pda nyp@committed to retain in perpetuity ReCAP Collaboration for Slavic and East European Books NN http://arks.princeton.edu/ark:/88435/dcxg94j1575       1\n",
       "429 pages ; 21 cm@committed to retain in perpetuity ReCAP Collaboration for Slavic and East European Books NN http://arks.princeton.edu/ark:/88435/dcxg94j1575                                        1\n",
       "Name: count, dtype: int64"
      ]
     },
     "execution_count": 5,
     "metadata": {},
     "output_type": "execute_result"
    }
   ],
   "source": [
    "df[\"note\"].value_counts()"
   ]
  }
 ],
 "metadata": {
  "kernelspec": {
   "display_name": "godocstransition-dGKImsmB-py3.12",
   "language": "python",
   "name": "python3"
  },
  "language_info": {
   "codemirror_mode": {
    "name": "ipython",
    "version": 3
   },
   "file_extension": ".py",
   "mimetype": "text/x-python",
   "name": "python",
   "nbconvert_exporter": "python",
   "pygments_lexer": "ipython3",
   "version": "3.12.1"
  }
 },
 "nbformat": 4,
 "nbformat_minor": 5
}
