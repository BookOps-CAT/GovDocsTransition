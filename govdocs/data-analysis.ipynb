{
 "cells": [
  {
   "cell_type": "code",
   "execution_count": 1,
   "id": "96917be8",
   "metadata": {},
   "outputs": [],
   "source": [
    "import pandas as pd"
   ]
  },
  {
   "cell_type": "markdown",
   "id": "416262bf",
   "metadata": {},
   "source": [
    "#### Eres duplicate OCLC # summary"
   ]
  },
  {
   "cell_type": "code",
   "execution_count": 2,
   "id": "c6d2521d",
   "metadata": {},
   "outputs": [],
   "source": [
    "e3_fh = \"../files/GovDocs-eres-mon-3-SierraExport.txt\""
   ]
  },
  {
   "cell_type": "code",
   "execution_count": 4,
   "id": "d094ea9f",
   "metadata": {},
   "outputs": [],
   "source": [
    "e3df = pd.read_csv(e3_fh, quotechar='\"', header=0, delimiter=\"^\", names=[\"bibNo\", \"matType\", \"loc\", \"controlNo\", \"itemNo\", \"orderNo\", \"holdingNo\"])"
   ]
  },
  {
   "cell_type": "code",
   "execution_count": 5,
   "id": "8d3d05a6",
   "metadata": {},
   "outputs": [
    {
     "data": {
      "text/plain": [
       "11992"
      ]
     },
     "execution_count": 5,
     "metadata": {},
     "output_type": "execute_result"
    }
   ],
   "source": [
    "e3df.shape[0]"
   ]
  },
  {
   "cell_type": "code",
   "execution_count": 6,
   "id": "4ac396ce",
   "metadata": {},
   "outputs": [
    {
     "data": {
      "text/html": [
       "<div>\n",
       "<style scoped>\n",
       "    .dataframe tbody tr th:only-of-type {\n",
       "        vertical-align: middle;\n",
       "    }\n",
       "\n",
       "    .dataframe tbody tr th {\n",
       "        vertical-align: top;\n",
       "    }\n",
       "\n",
       "    .dataframe thead th {\n",
       "        text-align: right;\n",
       "    }\n",
       "</style>\n",
       "<table border=\"1\" class=\"dataframe\">\n",
       "  <thead>\n",
       "    <tr style=\"text-align: right;\">\n",
       "      <th></th>\n",
       "      <th>bibNo</th>\n",
       "      <th>matType</th>\n",
       "      <th>loc</th>\n",
       "      <th>controlNo</th>\n",
       "      <th>itemNo</th>\n",
       "      <th>orderNo</th>\n",
       "      <th>holdingNo</th>\n",
       "    </tr>\n",
       "  </thead>\n",
       "  <tbody>\n",
       "    <tr>\n",
       "      <th>0</th>\n",
       "      <td>b180180654</td>\n",
       "      <td>w</td>\n",
       "      <td>ia</td>\n",
       "      <td>310982717</td>\n",
       "      <td>NaN</td>\n",
       "      <td>NaN</td>\n",
       "      <td>NaN</td>\n",
       "    </tr>\n",
       "    <tr>\n",
       "      <th>1</th>\n",
       "      <td>b180371502</td>\n",
       "      <td>w</td>\n",
       "      <td>ia</td>\n",
       "      <td>310982788</td>\n",
       "      <td>NaN</td>\n",
       "      <td>NaN</td>\n",
       "      <td>NaN</td>\n",
       "    </tr>\n",
       "  </tbody>\n",
       "</table>\n",
       "</div>"
      ],
      "text/plain": [
       "        bibNo matType    loc  controlNo itemNo  orderNo  holdingNo\n",
       "0  b180180654     w    ia     310982717    NaN      NaN        NaN\n",
       "1  b180371502     w    ia     310982788    NaN      NaN        NaN"
      ]
     },
     "execution_count": 6,
     "metadata": {},
     "output_type": "execute_result"
    }
   ],
   "source": [
    "e3df.head(2)"
   ]
  },
  {
   "cell_type": "code",
   "execution_count": 7,
   "id": "fe807223",
   "metadata": {},
   "outputs": [
    {
     "data": {
      "text/plain": [
       "matType\n",
       "w      11975\n",
       "a         17\n",
       "Name: count, dtype: int64"
      ]
     },
     "execution_count": 7,
     "metadata": {},
     "output_type": "execute_result"
    }
   ],
   "source": [
    "e3df[\"matType\"].value_counts()"
   ]
  },
  {
   "cell_type": "code",
   "execution_count": 8,
   "id": "7ba791a0",
   "metadata": {},
   "outputs": [
    {
     "data": {
      "text/plain": [
       "loc\n",
       "ia              11067\n",
       "iarch             904\n",
       "mal                19\n",
       "ia,iarch,mai        1\n",
       "ia,mai              1\n",
       "Name: count, dtype: int64"
      ]
     },
     "execution_count": 8,
     "metadata": {},
     "output_type": "execute_result"
    }
   ],
   "source": [
    "e3df[\"loc\"].value_counts()"
   ]
  },
  {
   "cell_type": "code",
   "execution_count": 11,
   "id": "878143e8",
   "metadata": {},
   "outputs": [
    {
     "data": {
      "text/plain": [
       "itemNo\n",
       "i241187886    1\n",
       "i246716721    1\n",
       "Name: count, dtype: int64"
      ]
     },
     "execution_count": 11,
     "metadata": {},
     "output_type": "execute_result"
    }
   ],
   "source": [
    "e3df[\"itemNo\"].value_counts()"
   ]
  },
  {
   "cell_type": "code",
   "execution_count": 19,
   "id": "c9967569",
   "metadata": {},
   "outputs": [],
   "source": [
    "attached_records = e3df[(e3df[\"itemNo\"].notnull())|(e3df[\"orderNo\"].notnull())|(e3df[\"holdingNo\"].notnull())]"
   ]
  },
  {
   "cell_type": "code",
   "execution_count": 20,
   "id": "197f9bd2",
   "metadata": {},
   "outputs": [
    {
     "data": {
      "text/html": [
       "<div>\n",
       "<style scoped>\n",
       "    .dataframe tbody tr th:only-of-type {\n",
       "        vertical-align: middle;\n",
       "    }\n",
       "\n",
       "    .dataframe tbody tr th {\n",
       "        vertical-align: top;\n",
       "    }\n",
       "\n",
       "    .dataframe thead th {\n",
       "        text-align: right;\n",
       "    }\n",
       "</style>\n",
       "<table border=\"1\" class=\"dataframe\">\n",
       "  <thead>\n",
       "    <tr style=\"text-align: right;\">\n",
       "      <th></th>\n",
       "      <th>bibNo</th>\n",
       "      <th>matType</th>\n",
       "      <th>loc</th>\n",
       "      <th>controlNo</th>\n",
       "      <th>itemNo</th>\n",
       "      <th>orderNo</th>\n",
       "      <th>holdingNo</th>\n",
       "    </tr>\n",
       "  </thead>\n",
       "  <tbody>\n",
       "    <tr>\n",
       "      <th>2758</th>\n",
       "      <td>b180623771</td>\n",
       "      <td>a</td>\n",
       "      <td>mal</td>\n",
       "      <td>368145067</td>\n",
       "      <td>i241187886</td>\n",
       "      <td>NaN</td>\n",
       "      <td>NaN</td>\n",
       "    </tr>\n",
       "    <tr>\n",
       "      <th>9136</th>\n",
       "      <td>b182335859</td>\n",
       "      <td>a</td>\n",
       "      <td>mal</td>\n",
       "      <td>503462967</td>\n",
       "      <td>i246716721</td>\n",
       "      <td>NaN</td>\n",
       "      <td>NaN</td>\n",
       "    </tr>\n",
       "  </tbody>\n",
       "</table>\n",
       "</div>"
      ],
      "text/plain": [
       "           bibNo matType    loc  controlNo      itemNo  orderNo  holdingNo\n",
       "2758  b180623771     a    mal    368145067  i241187886      NaN        NaN\n",
       "9136  b182335859     a    mal    503462967  i246716721      NaN        NaN"
      ]
     },
     "execution_count": 20,
     "metadata": {},
     "output_type": "execute_result"
    }
   ],
   "source": [
    "attached_records.head()"
   ]
  },
  {
   "cell_type": "code",
   "execution_count": 9,
   "id": "084b110b",
   "metadata": {},
   "outputs": [],
   "source": [
    "dupControlNo = e3df[e3df.duplicated(subset=[\"controlNo\"], keep=False)]"
   ]
  },
  {
   "cell_type": "code",
   "execution_count": 38,
   "id": "99e8d9fb",
   "metadata": {},
   "outputs": [
    {
     "data": {
      "text/html": [
       "<div>\n",
       "<style scoped>\n",
       "    .dataframe tbody tr th:only-of-type {\n",
       "        vertical-align: middle;\n",
       "    }\n",
       "\n",
       "    .dataframe tbody tr th {\n",
       "        vertical-align: top;\n",
       "    }\n",
       "\n",
       "    .dataframe thead th {\n",
       "        text-align: right;\n",
       "    }\n",
       "</style>\n",
       "<table border=\"1\" class=\"dataframe\">\n",
       "  <thead>\n",
       "    <tr style=\"text-align: right;\">\n",
       "      <th></th>\n",
       "      <th>bibNo</th>\n",
       "      <th>matType</th>\n",
       "      <th>loc</th>\n",
       "      <th>controlNo</th>\n",
       "    </tr>\n",
       "  </thead>\n",
       "  <tbody>\n",
       "    <tr>\n",
       "      <th>105</th>\n",
       "      <td>b180900092</td>\n",
       "      <td>w</td>\n",
       "      <td>iarch</td>\n",
       "      <td>311864679</td>\n",
       "    </tr>\n",
       "    <tr>\n",
       "      <th>106</th>\n",
       "      <td>b223760985</td>\n",
       "      <td>w</td>\n",
       "      <td>ia</td>\n",
       "      <td>311864679</td>\n",
       "    </tr>\n",
       "    <tr>\n",
       "      <th>159</th>\n",
       "      <td>b180302875</td>\n",
       "      <td>w</td>\n",
       "      <td>ia</td>\n",
       "      <td>312149133</td>\n",
       "    </tr>\n",
       "    <tr>\n",
       "      <th>160</th>\n",
       "      <td>b180908765</td>\n",
       "      <td>w</td>\n",
       "      <td>iarch</td>\n",
       "      <td>312149133</td>\n",
       "    </tr>\n",
       "    <tr>\n",
       "      <th>167</th>\n",
       "      <td>b180302929</td>\n",
       "      <td>w</td>\n",
       "      <td>ia</td>\n",
       "      <td>312161298</td>\n",
       "    </tr>\n",
       "  </tbody>\n",
       "</table>\n",
       "</div>"
      ],
      "text/plain": [
       "          bibNo matType    loc  controlNo\n",
       "105  b180900092     w    iarch  311864679\n",
       "106  b223760985     w    ia     311864679\n",
       "159  b180302875     w    ia     312149133\n",
       "160  b180908765     w    iarch  312149133\n",
       "167  b180302929     w    ia     312161298"
      ]
     },
     "execution_count": 38,
     "metadata": {},
     "output_type": "execute_result"
    }
   ],
   "source": [
    "dupControlNo.head()"
   ]
  },
  {
   "cell_type": "code",
   "execution_count": 10,
   "id": "4fe5e0fb",
   "metadata": {},
   "outputs": [
    {
     "data": {
      "text/plain": [
       "matType\n",
       "w      3981\n",
       "a         2\n",
       "Name: count, dtype: int64"
      ]
     },
     "execution_count": 10,
     "metadata": {},
     "output_type": "execute_result"
    }
   ],
   "source": [
    "dupControlNo[\"matType\"].value_counts()"
   ]
  },
  {
   "cell_type": "code",
   "execution_count": 40,
   "id": "ff5e792c",
   "metadata": {},
   "outputs": [
    {
     "data": {
      "text/plain": [
       "loc\n",
       "ia       3215\n",
       "iarch     766\n",
       "mal         2\n",
       "Name: count, dtype: int64"
      ]
     },
     "execution_count": 40,
     "metadata": {},
     "output_type": "execute_result"
    }
   ],
   "source": [
    "dupControlNo[\"loc\"].value_counts()"
   ]
  },
  {
   "cell_type": "code",
   "execution_count": 41,
   "id": "78ed80af",
   "metadata": {},
   "outputs": [],
   "source": [
    "dupControlNo.to_csv(\"../files/dupControlNo.csv\", index=False)"
   ]
  },
  {
   "cell_type": "code",
   "execution_count": 42,
   "id": "ceca20d2",
   "metadata": {},
   "outputs": [],
   "source": [
    "matType_not_w = e3df[e3df[\"matType\"] != \"w  \"]"
   ]
  },
  {
   "cell_type": "code",
   "execution_count": 43,
   "id": "cd4ab2d0",
   "metadata": {},
   "outputs": [],
   "source": [
    "matType_not_w.to_csv(\"../files/matType-not-w.csv\", index=False)"
   ]
  },
  {
   "cell_type": "code",
   "execution_count": null,
   "id": "7837c308",
   "metadata": {},
   "outputs": [],
   "source": [
    "loc_not_eres = e3df[(e3df[\"loc\"] != \"ia   \") & (e3df[\"loc\"] != \"iarch\")]\n"
   ]
  },
  {
   "cell_type": "code",
   "execution_count": 47,
   "id": "b7c00a12",
   "metadata": {},
   "outputs": [],
   "source": [
    "loc_not_eres.to_csv(\"../files/loc-not-eres.csv\", index=False)"
   ]
  }
 ],
 "metadata": {
  "kernelspec": {
   "display_name": "godocstransition-dGKImsmB-py3.12",
   "language": "python",
   "name": "python3"
  },
  "language_info": {
   "codemirror_mode": {
    "name": "ipython",
    "version": 3
   },
   "file_extension": ".py",
   "mimetype": "text/x-python",
   "name": "python",
   "nbconvert_exporter": "python",
   "pygments_lexer": "ipython3",
   "version": "3.12.1"
  }
 },
 "nbformat": 4,
 "nbformat_minor": 5
}
